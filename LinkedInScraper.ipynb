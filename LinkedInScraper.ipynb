{
 "cells": [
  {
   "cell_type": "code",
   "execution_count": 208,
   "id": "e1ac097e",
   "metadata": {},
   "outputs": [
    {
     "name": "stderr",
     "output_type": "stream",
     "text": [
      "C:\\Users\\b_ran\\AppData\\Local\\Temp\\ipykernel_21416\\4183201900.py:13: DeprecationWarning: executable_path has been deprecated, please pass in a Service object\n",
      "  wd = webdriver.Chrome(executable_path='./chromedriver.exe')\n"
     ]
    }
   ],
   "source": [
    "from bs4 import BeautifulSoup\n",
    "import requests\n",
    "import urllib\n",
    "from selenium import webdriver\n",
    "import pandas as pd\n",
    "from selenium.webdriver.common.by import By\n",
    "import os\n",
    "import time\n",
    "import re\n",
    "\n",
    "url = 'https://www.linkedin.com/jobs/search/?keywords=Software%20Engineer&location=United%20States&locationId=&geoId=103644278&sortBy=R&f_TPR=r604800&f_JT=F&f_E=2&f_SB2=3&position=1&pageNum=0'\n",
    "\n",
    "wd = webdriver.Chrome(executable_path='./chromedriver.exe')\n",
    "wd.get(url)"
   ]
  },
  {
   "cell_type": "code",
   "execution_count": 209,
   "id": "c5a3724d",
   "metadata": {},
   "outputs": [],
   "source": [
    "# Number of jobs available\n",
    "numJobs = int(re.findall('[-+]?[.]?[\\d]+(?:,\\d\\d\\d)*[\\.]?\\d*(?:[eE][-+]?\\d+)?', wd.find_element(By.CSS_SELECTOR, 'h1>span').get_attribute('innerText'))[0].replace(',' ,''))"
   ]
  },
  {
   "cell_type": "code",
   "execution_count": 56,
   "id": "42972bb7",
   "metadata": {},
   "outputs": [
    {
     "data": {
      "text/plain": [
       "<selenium.webdriver.remote.webelement.WebElement (session=\"025599c2390066a12ff3158b36460cd1\", element=\"57dfcf8d-978c-47e8-a4f2-d828a51a589b\")>"
      ]
     },
     "execution_count": 56,
     "metadata": {},
     "output_type": "execute_result"
    }
   ],
   "source": [
    "# Testing selectors\n",
    "wd.find_element(By.CLASS_NAME, 'jobs-search__results-list')#.click()\n",
    "wd.find_element(By.XPATH, '//*[@id=\"main-content\"]/section[2]/button')\n",
    "#wd.find_element(By.XPATH, 'html/body/div/main/section/ul/')"
   ]
  },
  {
   "cell_type": "code",
   "execution_count": 210,
   "id": "eb02849b",
   "metadata": {},
   "outputs": [],
   "source": [
    "# This part of the script scrolls down on the webpage in order to load more jobs.\n",
    "# Note that LinkedIn only loads a certain number of opening before forcing the user to click a button to load more jobs\n",
    "# Set i_stop at the count of jobs. Right now, there's way too many to read.\n",
    "i = 2\n",
    "i_stop = numJobs / 25 + 1\n",
    "\n",
    "while i <= i_stop: \n",
    "    wd.execute_script(\"window.scrollTo(0, document.body.scrollHeight);\")\n",
    "    i = i + 1\n",
    "    try:\n",
    "        # Check to see if there's a button to \"load more jobs\"\n",
    "        wd.find_element(By.XPATH, '//*[@id=\"main-content\"]/section[2]/button').click()\n",
    "        #print('Loaded more jobs: ' + str(i))\n",
    "    except:\n",
    "        pass\n",
    "        #print('Didn\\'t load any more jobs:' + str(i))\n",
    "    time.sleep(2)"
   ]
  },
  {
   "cell_type": "code",
   "execution_count": 212,
   "id": "57e19ea6",
   "metadata": {},
   "outputs": [
    {
     "data": {
      "text/plain": [
       "997"
      ]
     },
     "execution_count": 212,
     "metadata": {},
     "output_type": "execute_result"
    }
   ],
   "source": [
    "job_lists = wd.find_element(By.CLASS_NAME, 'jobs-search__results-list')\n",
    "jobs = job_lists.find_elements(By.TAG_NAME, 'li')\n",
    "len(jobs)"
   ]
  },
  {
   "cell_type": "code",
   "execution_count": 154,
   "id": "8982e217",
   "metadata": {},
   "outputs": [
    {
     "name": "stdout",
     "output_type": "stream",
     "text": [
      "https://www.linkedin.com/jobs/view/software-engineer-early-career-at-lockheed-martin-3457021254?refId=0KbziUZSnAq6BC3C8A5BKg%3D%3D&trackingId=2j2NWZ5D62BdDMnUp5ulDw%3D%3D&position=1&pageNum=0&trk=public_jobs_jserp-result_search-card\n",
      "Software Engineer - Early Career\n",
      "Lockheed Martin\n",
      "Littleton, CO\n",
      "2023-01-31\n"
     ]
    }
   ],
   "source": [
    "i = 0\n",
    "\n",
    "# Link to application\n",
    "print(jobs[i].find_element(By.CSS_SELECTOR, 'a').get_attribute('href'))\n",
    "\n",
    "# Job Title\n",
    "print(jobs[i].find_element(By.CSS_SELECTOR, 'h3').get_attribute('innerText'))\n",
    "\n",
    "# Company\n",
    "print(jobs[i].find_element(By.CSS_SELECTOR, 'h4').get_attribute('innerText'))\n",
    "\n",
    "# Location\n",
    "#print(jobs[i].find_element(By.XPATH, '//h4/div/span[2]').get_attribute('innerText').strip())\n",
    "print(jobs[i].find_element(By.CLASS_NAME, 'job-search-card__location').get_attribute('innerText').strip())\n",
    "\n",
    "# Date Posted\n",
    "#print(jobs[i].find_element(By.XPATH, '//h4/div[2]/span[1]').get_attribute('innerText').strip())\n",
    "print(jobs[i].find_element(By.CSS_SELECTOR, 'time').get_attribute('datetime'))\n"
   ]
  },
  {
   "cell_type": "code",
   "execution_count": 195,
   "id": "751a9cfc",
   "metadata": {},
   "outputs": [
    {
     "name": "stdout",
     "output_type": "stream",
     "text": [
      "Description:By bringing together people that use their passion for purposeful innovation, at Lockheed Martin we keep people safe and solve the world's most complex challenges. Our people are some of the greatest minds in the industry and truly make Lockheed Martin a great place to work.\n",
      "\n",
      "With our employees as our priority, we provide diverse career opportunities designed to propel development and boost agility. Our flexible schedules, competitive pay, and comprehensive benefits enable our employees to live a healthy, fulfilling life at and outside of work.\n",
      "\n",
      "At Lockheed Martin, we place an emphasis on empowering our employees by fostering innovation, integrity, and exemplifying the epitome of corporate responsibility.\n",
      "\n",
      "Your Mission is Ours.\n",
      "\n",
      "Lockheed Martin Space in Littleton, CO, is seeking a full-time Software Engineer. In this role, the candidate will join a team of software and algorithm developers within the Special Programs line of business to develop innovative mission data processing applications. The candidate will collaborate with team members to design, develop, test, and analyze software implementation of algorithms applying mathematics, , signal processing, and AI/ML. The successful candidate will have experience and/or knowledge of programming, software , mathematics, and/or related. Must be a US Citizen; this position will require a government security. This position is located at a facility that requires special access.\n",
      "\n",
      "Basic Qualifications\n",
      "\n",
      "BS in Computer Science, Mathematics or related field\n",
      "Experience developing software in C/C++ or Python\n",
      "Experience with Linux\n",
      "Must be a US Citizen; this position will require a government security. This position is located at a facility that requires special access.\n",
      "\n",
      "Desired Skills\n",
      "\n",
      "Familiar with AWS, Kubernetes, Docker\n",
      "Familiar with digital signal processing, AI/ML, , and/or advanced mathematics\n",
      "Familiar with Agile, CI/CD, or DevSecOps approaches\n",
      "Experienced with Git, Gitlab, Jira, or other software development tools\n",
      "Excellent written and verbal communication skills\n",
      "Ability to work in a collaborative and team-based environment\n",
      "Proficient with Microsoft Office\n",
      "\n",
      "Job.Qualifications\n",
      "\n",
      "BASIC QUALIFICATIONS:\n",
      "\n",
      "Lockheed Martin is an Equal Opportunity/Affirmative Action Employer. All qualified applicants will receive consideration for employment without regard to race, color, religion, sex, pregnancy, sexual orientation, gender identity, national origin, age, protected veteran status, or disability status.\n",
      "\n",
      "Join us at Lockheed Martin, where your mission is ours. Our customers tackle the hardest missions. Those that demand extraordinary amounts of courage, resilience and precision. They’re dangerous. Critical. Sometimes they even provide an opportunity to change the world and save lives. Those are the missions we care about.\n",
      "\n",
      "As a leading technology innovation company, Lockheed Martin’s vast team works with partners around the world to bring proven performance to our customers’ toughest challenges. Lockheed Martin has employees based in many states throughout the U.S., and Internationally, with business locations in many nations and territories.\n",
      "\n",
      "Experience Level\n",
      "\n",
      "4 yr and up College\n"
     ]
    }
   ],
   "source": [
    "item = 0\n",
    "job_click = jobs[item].find_element(By.CSS_SELECTOR, 'a').click()\n",
    "#job_desc = jobs[item].find_element(By.XPATH, '//section/div[2]/div[1]/section').get_attribute('innerHTML')\n",
    "\n",
    "job_desc = wd.find_element(By.CSS_SELECTOR, 'div.show-more-less-html__markup').get_attribute('innerText').strip().replace('\\n\\n\\n','\\n').replace('\\n\\n','\\n')\n",
    "print(job_desc)"
   ]
  }
 ],
 "metadata": {
  "kernelspec": {
   "display_name": "Python 3 (ipykernel)",
   "language": "python",
   "name": "python3"
  },
  "language_info": {
   "codemirror_mode": {
    "name": "ipython",
    "version": 3
   },
   "file_extension": ".py",
   "mimetype": "text/x-python",
   "name": "python",
   "nbconvert_exporter": "python",
   "pygments_lexer": "ipython3",
   "version": "3.10.5"
  }
 },
 "nbformat": 4,
 "nbformat_minor": 5
}
